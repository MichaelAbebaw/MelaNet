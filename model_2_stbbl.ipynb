{
 "cells": [
  {
   "cell_type": "markdown",
   "metadata": {},
   "source": [
    "### Train model\n",
    "Model is inspired by Baidu 2.\n",
    "See models/model_2.png for architecture diagram. Save model on every epoch."
   ]
  },
  {
   "cell_type": "markdown",
   "metadata": {},
   "source": [
    "### Prepare train and valid data"
   ]
  },
  {
   "cell_type": "code",
   "execution_count": 1,
   "metadata": {},
   "outputs": [],
   "source": [
    "from src.data_generator import make_audio_gen\n",
    "\n",
    "\n",
    "TRAIN_CORPUS = \"data_stbbl/train_corpus.json\"\n",
    "VALID_CORPUS = \"data_stbbl/valid_corpus.json\"\n",
    "\n",
    "MFCC_DIM = 13\n",
    "SPECTOGRAM = False\n",
    "EPOCHS = 2\n",
    "MODEL_NAME = \"model_2_stbbl\"\n",
    "\n",
    "################ Reminder MINI_BATCH_SIZE=250 in previous notebooks\n",
    "MINI_BATCH_SIZE = 250\n",
    "\n",
    "SORT_BY_DURATION=False\n",
    "MAX_DURATION = 10.0\n",
    "\n",
    "audio_gen = make_audio_gen(TRAIN_CORPUS, VALID_CORPUS, spectrogram=False, mfcc_dim=MFCC_DIM,\n",
    "                           minibatch_size=MINI_BATCH_SIZE, sort_by_duration=SORT_BY_DURATION,\n",
    "                           max_duration=MAX_DURATION)\n",
    "# add the training data to the generator\n",
    "audio_gen.load_train_data()\n",
    "audio_gen.load_validation_data()"
   ]
  },
  {
   "cell_type": "markdown",
   "metadata": {},
   "source": [
    "### Run training"
   ]
  },
  {
   "cell_type": "code",
   "execution_count": 2,
   "metadata": {},
   "outputs": [
    {
     "name": "stderr",
     "output_type": "stream",
     "text": [
      "Using TensorFlow backend.\n"
     ]
    },
    {
     "name": "stdout",
     "output_type": "stream",
     "text": [
      "WARNING:tensorflow:From /home/ubuntu/anaconda3/envs/tensorflow_p36/lib/python3.6/site-packages/tensorflow/python/framework/op_def_library.py:263: colocate_with (from tensorflow.python.framework.ops) is deprecated and will be removed in a future version.\n",
      "Instructions for updating:\n",
      "Colocations handled automatically by placer.\n",
      "_________________________________________________________________\n",
      "Layer (type)                 Output Shape              Param #   \n",
      "=================================================================\n",
      "the_input (InputLayer)       (None, None, 13)          0         \n",
      "_________________________________________________________________\n",
      "layer_1_conv (Conv1D)        (None, None, 200)         28800     \n",
      "_________________________________________________________________\n",
      "conv_batch_norm (BatchNormal (None, None, 200)         800       \n",
      "_________________________________________________________________\n",
      "rnn_1 (GRU)                  (None, None, 250)         338250    \n",
      "_________________________________________________________________\n",
      "bt_rnn_1 (BatchNormalization (None, None, 250)         1000      \n",
      "_________________________________________________________________\n",
      "rnn_2 (GRU)                  (None, None, 250)         375750    \n",
      "_________________________________________________________________\n",
      "bt_rnn_2 (BatchNormalization (None, None, 250)         1000      \n",
      "_________________________________________________________________\n",
      "rnn_3 (GRU)                  (None, None, 250)         375750    \n",
      "_________________________________________________________________\n",
      "bt_rnn_3 (BatchNormalization (None, None, 250)         1000      \n",
      "_________________________________________________________________\n",
      "rnn_4 (GRU)                  (None, None, 250)         375750    \n",
      "_________________________________________________________________\n",
      "bt_rnn_4 (BatchNormalization (None, None, 250)         1000      \n",
      "_________________________________________________________________\n",
      "final_layer_of_rnn (GRU)     (None, None, 250)         375750    \n",
      "_________________________________________________________________\n",
      "bt_rnn_final (BatchNormaliza (None, None, 250)         1000      \n",
      "_________________________________________________________________\n",
      "time_distributed_1 (TimeDist (None, None, 223)         55973     \n",
      "_________________________________________________________________\n",
      "softmax (Activation)         (None, None, 223)         0         \n",
      "=================================================================\n",
      "Total params: 1,931,823\n",
      "Trainable params: 1,928,923\n",
      "Non-trainable params: 2,900\n",
      "_________________________________________________________________\n",
      "None\n",
      "WARNING:tensorflow:From /home/ubuntu/anaconda3/envs/tensorflow_p36/lib/python3.6/site-packages/keras/backend/tensorflow_backend.py:4249: to_int32 (from tensorflow.python.ops.math_ops) is deprecated and will be removed in a future version.\n",
      "Instructions for updating:\n",
      "Use tf.cast instead.\n",
      "WARNING:tensorflow:From /home/ubuntu/anaconda3/envs/tensorflow_p36/lib/python3.6/site-packages/keras/backend/tensorflow_backend.py:4229: to_int64 (from tensorflow.python.ops.math_ops) is deprecated and will be removed in a future version.\n",
      "Instructions for updating:\n",
      "Use tf.cast instead.\n",
      "WARNING:tensorflow:From /home/ubuntu/anaconda3/envs/tensorflow_p36/lib/python3.6/site-packages/tensorflow/python/ops/math_grad.py:102: div (from tensorflow.python.ops.math_ops) is deprecated and will be removed in a future version.\n",
      "Instructions for updating:\n",
      "Deprecated in favor of operator or tf.math.divide.\n",
      "Epoch 1/40\n",
      "49/49 [==============================] - 454s 9s/step - loss: 236.7020 - val_loss: 255.1393\n",
      "Epoch 2/40\n",
      "49/49 [==============================] - 363s 7s/step - loss: 165.2624 - val_loss: 186.6783\n",
      "Epoch 3/40\n",
      "49/49 [==============================] - 362s 7s/step - loss: 153.9589 - val_loss: 171.9827\n",
      "Epoch 4/40\n",
      "49/49 [==============================] - 360s 7s/step - loss: 138.7500 - val_loss: 156.6304\n",
      "Epoch 5/40\n",
      "49/49 [==============================] - 360s 7s/step - loss: 116.8179 - val_loss: 140.3771\n",
      "Epoch 6/40\n",
      "49/49 [==============================] - 363s 7s/step - loss: 95.5455 - val_loss: 112.8283\n",
      "Epoch 7/40\n",
      "49/49 [==============================] - 356s 7s/step - loss: 81.7023 - val_loss: 98.3579\n",
      "Epoch 8/40\n",
      "49/49 [==============================] - 359s 7s/step - loss: 73.0057 - val_loss: 86.8011\n",
      "Epoch 9/40\n",
      "49/49 [==============================] - 358s 7s/step - loss: 66.5368 - val_loss: 84.0200\n",
      "Epoch 10/40\n",
      "49/49 [==============================] - 366s 7s/step - loss: 61.7445 - val_loss: 75.7311\n",
      "Epoch 11/40\n",
      "49/49 [==============================] - 365s 7s/step - loss: 58.0050 - val_loss: 76.5783\n",
      "Epoch 12/40\n",
      "49/49 [==============================] - 367s 7s/step - loss: 54.9419 - val_loss: 74.0891\n",
      "Epoch 13/40\n",
      "49/49 [==============================] - 373s 8s/step - loss: 52.1486 - val_loss: 68.0414\n",
      "Epoch 14/40\n",
      "49/49 [==============================] - 364s 7s/step - loss: 50.0008 - val_loss: 67.7581\n",
      "Epoch 15/40\n",
      "49/49 [==============================] - 355s 7s/step - loss: 47.7937 - val_loss: 71.0257\n",
      "Epoch 16/40\n",
      "49/49 [==============================] - 358s 7s/step - loss: 45.9934 - val_loss: 71.3932\n",
      "Epoch 17/40\n",
      "49/49 [==============================] - 357s 7s/step - loss: 44.1116 - val_loss: 62.8819\n",
      "Epoch 18/40\n",
      "49/49 [==============================] - 356s 7s/step - loss: 42.5923 - val_loss: 66.3102\n",
      "Epoch 19/40\n",
      "49/49 [==============================] - 359s 7s/step - loss: 40.9556 - val_loss: 68.5477\n",
      "Epoch 20/40\n",
      "49/49 [==============================] - 357s 7s/step - loss: 39.5175 - val_loss: 63.9574\n",
      "Epoch 21/40\n",
      "49/49 [==============================] - 356s 7s/step - loss: 38.1453 - val_loss: 60.8169\n",
      "Epoch 22/40\n",
      "49/49 [==============================] - 357s 7s/step - loss: 36.7945 - val_loss: 62.8195\n",
      "Epoch 23/40\n",
      "49/49 [==============================] - 356s 7s/step - loss: 35.5182 - val_loss: 68.0822\n",
      "Epoch 24/40\n",
      "49/49 [==============================] - 357s 7s/step - loss: 34.2348 - val_loss: 59.2421\n",
      "Epoch 25/40\n",
      "49/49 [==============================] - 355s 7s/step - loss: 33.1788 - val_loss: 60.8466\n",
      "Epoch 26/40\n",
      "49/49 [==============================] - 354s 7s/step - loss: 31.9892 - val_loss: 68.8473\n",
      "Epoch 27/40\n",
      "49/49 [==============================] - 355s 7s/step - loss: 30.7747 - val_loss: 69.1680\n",
      "Epoch 28/40\n",
      "49/49 [==============================] - 357s 7s/step - loss: 29.7375 - val_loss: 66.1426\n",
      "Epoch 29/40\n",
      "49/49 [==============================] - 355s 7s/step - loss: 28.7424 - val_loss: 65.7206\n",
      "Epoch 30/40\n",
      "49/49 [==============================] - 356s 7s/step - loss: 27.7800 - val_loss: 73.7954\n",
      "Epoch 31/40\n",
      "49/49 [==============================] - 355s 7s/step - loss: 26.7455 - val_loss: 67.3054\n",
      "Epoch 32/40\n",
      "49/49 [==============================] - 356s 7s/step - loss: 25.6325 - val_loss: 68.9778\n",
      "Epoch 33/40\n",
      "49/49 [==============================] - 356s 7s/step - loss: 24.6517 - val_loss: 74.5874\n",
      "Epoch 34/40\n",
      "49/49 [==============================] - 357s 7s/step - loss: 23.7400 - val_loss: 70.3908\n",
      "Epoch 35/40\n",
      "49/49 [==============================] - 356s 7s/step - loss: 22.9095 - val_loss: 67.3347\n",
      "Epoch 36/40\n",
      "49/49 [==============================] - 355s 7s/step - loss: 21.8836 - val_loss: 74.4935\n",
      "Epoch 37/40\n",
      "49/49 [==============================] - 356s 7s/step - loss: 21.1015 - val_loss: 76.4954\n",
      "Epoch 38/40\n",
      "49/49 [==============================] - 357s 7s/step - loss: 19.9904 - val_loss: 75.3231\n",
      "Epoch 39/40\n",
      "49/49 [==============================] - 354s 7s/step - loss: 19.2279 - val_loss: 78.2140\n",
      "Epoch 40/40\n",
      "49/49 [==============================] - 353s 7s/step - loss: 18.3510 - val_loss: 82.7012\n"
     ]
    }
   ],
   "source": [
    "from src.train import train\n",
    "from src.models import model_2\n",
    "from src.char_map import char_map, index_map\n",
    "\n",
    "EPOCHS = 40\n",
    "MODEL_NAME = \"model_2_stbbl\"\n",
    "\n",
    "model = model_2(input_dim=13,\n",
    "                filters=200,\n",
    "                kernel_size=11, \n",
    "                conv_stride=2,\n",
    "                conv_border_mode='valid',\n",
    "                units=250,\n",
    "                activation='relu',\n",
    "                dropout_rate=1,\n",
    "                number_of_layers=5,\n",
    "                output_dim=len(char_map)+1)\n",
    "\n",
    "train(audio_gen, input_to_softmax=model, model_name=MODEL_NAME, epochs=EPOCHS, minibatch_size=MINI_BATCH_SIZE)"
   ]
  },
  {
   "cell_type": "markdown",
   "metadata": {},
   "source": [
    "### Load saved model"
   ]
  },
  {
   "cell_type": "code",
   "execution_count": 3,
   "metadata": {},
   "outputs": [
    {
     "name": "stdout",
     "output_type": "stream",
     "text": [
      "_________________________________________________________________\n",
      "Layer (type)                 Output Shape              Param #   \n",
      "=================================================================\n",
      "the_input (InputLayer)       (None, None, 13)          0         \n",
      "_________________________________________________________________\n",
      "layer_1_conv (Conv1D)        (None, None, 200)         28800     \n",
      "_________________________________________________________________\n",
      "conv_batch_norm (BatchNormal (None, None, 200)         800       \n",
      "_________________________________________________________________\n",
      "rnn_1 (GRU)                  (None, None, 250)         338250    \n",
      "_________________________________________________________________\n",
      "bt_rnn_1 (BatchNormalization (None, None, 250)         1000      \n",
      "_________________________________________________________________\n",
      "rnn_2 (GRU)                  (None, None, 250)         375750    \n",
      "_________________________________________________________________\n",
      "bt_rnn_2 (BatchNormalization (None, None, 250)         1000      \n",
      "_________________________________________________________________\n",
      "rnn_3 (GRU)                  (None, None, 250)         375750    \n",
      "_________________________________________________________________\n",
      "bt_rnn_3 (BatchNormalization (None, None, 250)         1000      \n",
      "_________________________________________________________________\n",
      "rnn_4 (GRU)                  (None, None, 250)         375750    \n",
      "_________________________________________________________________\n",
      "bt_rnn_4 (BatchNormalization (None, None, 250)         1000      \n",
      "_________________________________________________________________\n",
      "final_layer_of_rnn (GRU)     (None, None, 250)         375750    \n",
      "_________________________________________________________________\n",
      "bt_rnn_final (BatchNormaliza (None, None, 250)         1000      \n",
      "_________________________________________________________________\n",
      "time_distributed_2 (TimeDist (None, None, 223)         55973     \n",
      "_________________________________________________________________\n",
      "softmax (Activation)         (None, None, 223)         0         \n",
      "=================================================================\n",
      "Total params: 1,931,823\n",
      "Trainable params: 1,928,923\n",
      "Non-trainable params: 2,900\n",
      "_________________________________________________________________\n",
      "None\n"
     ]
    }
   ],
   "source": [
    "from src.char_map import char_map, index_map\n",
    "from src.models import model_2\n",
    "\n",
    "model = model_2(input_dim=13,\n",
    "                filters=200,\n",
    "                kernel_size=11, \n",
    "                conv_stride=2,\n",
    "                conv_border_mode='valid',\n",
    "                units=250,\n",
    "                activation='relu',\n",
    "                dropout_rate=1,\n",
    "                number_of_layers=5,\n",
    "                output_dim=len(char_map)+1)\n",
    "model_name = \"model_2_stbbl\"\n",
    "model.load_weights('models/' + model_name + '.h5')"
   ]
  },
  {
   "cell_type": "markdown",
   "metadata": {},
   "source": [
    "### Loss"
   ]
  },
  {
   "cell_type": "code",
   "execution_count": 4,
   "metadata": {},
   "outputs": [
    {
     "data": {
      "image/png": "[encoded data removed]",
      "text/plain": [
       "<Figure size 432x288 with 1 Axes>"
      ]
     },
     "metadata": {},
     "output_type": "display_data"
    }
   ],
   "source": [
    "from src.plot import plot_hist\n",
    "\n",
    "model_name = \"model_2_stbbl\"\n",
    "plot_hist(model_name)"
   ]
  },
  {
   "cell_type": "markdown",
   "metadata": {},
   "source": [
    "### Word Error Rate - train"
   ]
  },
  {
   "cell_type": "code",
   "execution_count": 5,
   "metadata": {},
   "outputs": [
    {
     "ename": "TypeError",
     "evalue": "'method' object cannot be interpreted as an integer",
     "output_type": "error",
     "traceback": [
      "\u001b[0;31m---------------------------------------------------------------------------\u001b[0m",
      "\u001b[0;31mTypeError\u001b[0m                                 Traceback (most recent call last)",
      "\u001b[0;32m<ipython-input-5-2cabb3cae5e0>\u001b[0m in \u001b[0;36m<module>\u001b[0;34m()\u001b[0m\n\u001b[1;32m      1\u001b[0m \u001b[0;32mfrom\u001b[0m \u001b[0msrc\u001b[0m\u001b[0;34m.\u001b[0m\u001b[0mpredict\u001b[0m \u001b[0;32mimport\u001b[0m \u001b[0mcalculate_wer\u001b[0m\u001b[0;34m\u001b[0m\u001b[0m\n\u001b[1;32m      2\u001b[0m \u001b[0;34m\u001b[0m\u001b[0m\n\u001b[0;32m----> 3\u001b[0;31m \u001b[0mcalculate_wer\u001b[0m\u001b[0;34m(\u001b[0m\u001b[0mmodel\u001b[0m\u001b[0;34m,\u001b[0m \u001b[0mmodel_name\u001b[0m\u001b[0;34m,\u001b[0m \u001b[0maudio_gen\u001b[0m\u001b[0;34m,\u001b[0m \u001b[0;34m'train'\u001b[0m\u001b[0;34m,\u001b[0m \u001b[0maudio_gen\u001b[0m\u001b[0;34m.\u001b[0m\u001b[0mtrain_length\u001b[0m\u001b[0;34m)\u001b[0m\u001b[0;34m\u001b[0m\u001b[0m\n\u001b[0m",
      "\u001b[0;32m~/MelaNet/src/predict.py\u001b[0m in \u001b[0;36mcalculate_wer\u001b[0;34m(model, model_name, data_gen, partition, length)\u001b[0m\n\u001b[1;32m     62\u001b[0m             \u001b[0mprint\u001b[0m\u001b[0;34m(\u001b[0m\u001b[0;34m\"processed %d in %d minutes\"\u001b[0m \u001b[0;34m%\u001b[0m \u001b[0;34m(\u001b[0m\u001b[0mi\u001b[0m\u001b[0;34m,\u001b[0m \u001b[0;34m(\u001b[0m\u001b[0;34m(\u001b[0m\u001b[0mtime\u001b[0m\u001b[0;34m.\u001b[0m\u001b[0mtime\u001b[0m\u001b[0;34m(\u001b[0m\u001b[0;34m)\u001b[0m \u001b[0;34m-\u001b[0m \u001b[0mstart\u001b[0m\u001b[0;34m)\u001b[0m\u001b[0;34m/\u001b[0m\u001b[0;36m60\u001b[0m\u001b[0;34m)\u001b[0m\u001b[0;34m)\u001b[0m\u001b[0;34m)\u001b[0m\u001b[0;34m\u001b[0m\u001b[0m\n\u001b[1;32m     63\u001b[0m         \u001b[0;32mreturn\u001b[0m \u001b[0mwer\u001b[0m\u001b[0;34m\u001b[0m\u001b[0m\n\u001b[0;32m---> 64\u001b[0;31m     \u001b[0mwer\u001b[0m \u001b[0;34m=\u001b[0m \u001b[0mlist\u001b[0m\u001b[0;34m(\u001b[0m\u001b[0mmap\u001b[0m\u001b[0;34m(\u001b[0m\u001b[0;32mlambda\u001b[0m \u001b[0mi\u001b[0m\u001b[0;34m:\u001b[0m \u001b[0mwer_single\u001b[0m\u001b[0;34m(\u001b[0m\u001b[0mi\u001b[0m\u001b[0;34m)\u001b[0m\u001b[0;34m,\u001b[0m \u001b[0mrange\u001b[0m\u001b[0;34m(\u001b[0m\u001b[0;36m1\u001b[0m\u001b[0;34m,\u001b[0m \u001b[0mlength\u001b[0m\u001b[0;34m)\u001b[0m\u001b[0;34m)\u001b[0m\u001b[0;34m)\u001b[0m\u001b[0;34m\u001b[0m\u001b[0m\n\u001b[0m\u001b[1;32m     65\u001b[0m     \u001b[0mprint\u001b[0m\u001b[0;34m(\u001b[0m\u001b[0;34m\"Total time: %f minutes\"\u001b[0m \u001b[0;34m%\u001b[0m \u001b[0;34m(\u001b[0m\u001b[0;34m(\u001b[0m\u001b[0mtime\u001b[0m\u001b[0;34m.\u001b[0m\u001b[0mtime\u001b[0m\u001b[0;34m(\u001b[0m\u001b[0;34m)\u001b[0m \u001b[0;34m-\u001b[0m \u001b[0mstart\u001b[0m\u001b[0;34m)\u001b[0m\u001b[0;34m/\u001b[0m\u001b[0;36m60\u001b[0m\u001b[0;34m)\u001b[0m\u001b[0;34m)\u001b[0m\u001b[0;34m\u001b[0m\u001b[0m\n\u001b[1;32m     66\u001b[0m     \u001b[0mfilename\u001b[0m \u001b[0;34m=\u001b[0m \u001b[0;34m'models/'\u001b[0m \u001b[0;34m+\u001b[0m \u001b[0mmodel_name\u001b[0m \u001b[0;34m+\u001b[0m \u001b[0;34m'_'\u001b[0m \u001b[0;34m+\u001b[0m \u001b[0mpartition\u001b[0m \u001b[0;34m+\u001b[0m \u001b[0;34m'_wer.pickle'\u001b[0m\u001b[0;34m\u001b[0m\u001b[0m\n",
      "\u001b[0;31mTypeError\u001b[0m: 'method' object cannot be interpreted as an integer"
     ]
    }
   ],
   "source": [
    "from src.predict import calculate_wer\n",
    "\n",
    "calculate_wer(model, model_name, audio_gen, 'train', audio_gen.train_length)"
   ]
  },
  {
   "cell_type": "code",
   "execution_count": null,
   "metadata": {},
   "outputs": [],
   "source": [
    "import numpy as np\n",
    "from src.predict import load_wer\n",
    "\n",
    "wer = load_wer(model_name, 'train')\n",
    "print(\"WER mean=%f std=%f\" % (np.std(wer), np.mean(wer)))"
   ]
  },
  {
   "cell_type": "markdown",
   "metadata": {},
   "source": [
    "### Word Error Rate - validation"
   ]
  },
  {
   "cell_type": "code",
   "execution_count": null,
   "metadata": {},
   "outputs": [],
   "source": [
    "from src.predict import calculate_wer\n",
    "from src.data_generator import VALID_LENGTH\n",
    "\n",
    "calculate_wer(model, model_name, 'validation', VALID_LENGTH)"
   ]
  },
  {
   "cell_type": "code",
   "execution_count": null,
   "metadata": {},
   "outputs": [],
   "source": [
    "import numpy as np\n",
    "from src.predict import load_wer\n",
    "\n",
    "wer = load_wer(model_name, 'validation')\n",
    "print(\"WER mean=%f std=%f\" % (np.std(wer), np.mean(wer)))"
   ]
  },
  {
   "cell_type": "markdown",
   "metadata": {},
   "source": [
    "### Sample prediction - training"
   ]
  },
  {
   "cell_type": "code",
   "execution_count": null,
   "metadata": {},
   "outputs": [],
   "source": [
    "import numpy as np\n",
    "import pickle\n",
    "from src.predict import predict\n",
    "\n",
    "predict(0, 'train', model)\n",
    "predict(1, 'train', model)\n",
    "predict(2, 'train', model)\n",
    "predict(3, 'train', model)\n",
    "predict(4, 'train', model)\n",
    "predict(5, 'train', model)\n",
    "predict(6, 'train', model)\n",
    "predict(7, 'train', model)\n",
    "predict(8, 'train', model)\n",
    "predict(9, 'train', model)"
   ]
  },
  {
   "cell_type": "markdown",
   "metadata": {},
   "source": [
    "### Sample prediction - validation"
   ]
  },
  {
   "cell_type": "code",
   "execution_count": null,
   "metadata": {},
   "outputs": [],
   "source": [
    "import numpy as np\n",
    "import pickle\n",
    "from src.predict import predict\n",
    "\n",
    "wer = pickle.load(open('models/' + model_name + '_validation_wer.pickle', \"rb\" ))\n",
    "wer_index = np.argsort(wer)\n",
    "predict(wer_index[0], 'validation', model)\n",
    "predict(wer_index[1], 'validation', model)\n",
    "predict(wer_index[2], 'validation', model)\n",
    "predict(wer_index[3], 'validation', model)\n",
    "predict(wer_index[4], 'validation', model)\n",
    "predict(wer_index[5], 'validation', model)\n",
    "predict(wer_index[-1], 'validation', model)\n",
    "predict(wer_index[-2], 'validation', model)\n",
    "predict(wer_index[-3], 'validation', model)\n",
    "predict(wer_index[-4], 'validation', model)\n",
    "predict(wer_index[-5], 'validation', model)\n",
    "predict(wer_index[-6], 'validation', model)"
   ]
  },
  {
   "cell_type": "code",
   "execution_count": null,
   "metadata": {},
   "outputs": [],
   "source": []
  }
 ],
 "metadata": {
  "kernelspec": {
   "display_name": "Python 3",
   "language": "python",
   "name": "python3"
  },
  "language_info": {
   "codemirror_mode": {
    "name": "ipython",
    "version": 3
   },
   "file_extension": ".py",
   "mimetype": "text/x-python",
   "name": "python",
   "nbconvert_exporter": "python",
   "pygments_lexer": "ipython3",
   "version": "3.5.2"
  },
  "varInspector": {
   "cols": {
    "lenName": 16,
    "lenType": 16,
    "lenVar": 40
   },
   "kernels_config": {
    "python": {
     "delete_cmd_postfix": "",
     "delete_cmd_prefix": "del ",
     "library": "var_list.py",
     "varRefreshCmd": "print(var_dic_list())"
    },
    "r": {
     "delete_cmd_postfix": ") ",
     "delete_cmd_prefix": "rm(",
     "library": "var_list.r",
     "varRefreshCmd": "cat(var_dic_list()) "
    }
   },
   "types_to_exclude": [
    "module",
    "function",
    "builtin_function_or_method",
    "instance",
    "_Feature"
   ],
   "window_display": false
  }
 },
 "nbformat": 4,
 "nbformat_minor": 2
}
